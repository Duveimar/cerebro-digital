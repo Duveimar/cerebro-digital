{
  "cells": [
    {
      "cell_type": "markdown",
      "metadata": {
        "colab_type": "text",
        "id": "view-in-github"
      },
      "source": [
        "<a href=\"https://colab.research.google.com/github/Duveimar/cerebro-digital/blob/master/Copia_de_Untitled3.ipynb\" target=\"_parent\"><img src=\"https://colab.research.google.com/assets/colab-badge.svg\" alt=\"Open In Colab\"/></a>"
      ]
    },
    {
      "cell_type": "code",
      "execution_count": null,
      "metadata": {
        "colab": {
          "base_uri": "https://localhost:8080/"
        },
        "id": "CPm8_y08Bq-y",
        "outputId": "4cad8e55-4fe0-42f3-8c8b-a3840abe7ca8"
      },
      "outputs": [
        {
          "name": "stdout",
          "output_type": "stream",
          "text": [
            "Universidad de la vida\n",
            "¿Nombre completo? fhg\n",
            "completa el formulario para saber cuanto descuento tine para la universidad de la vida, FHG\n",
            "FHG Numero de identificacion?666\n",
            "Cual es su edad ?\n",
            "34\n",
            "hola¡. FHG, 5% de descuento en la matricula por tener 34 años de edad.\n",
            "5%\n",
            "estado civil ? soltero, casado, viudo\n",
            "soltero\n",
            "Sr(a). FHG,  15% de descuento en la matricula por su estado civil de soltero.\n",
            "15%\n",
            "\n",
            "\n",
            " NÚMERO DE HIJOS:\n",
            "2\n",
            "Sr(a). FHG,  7% de descuento en la matricula por tener 2 hijos.\n",
            "7%\n",
            "Nivel educativo? sena, bachiller,profecional\n",
            "sena\n",
            "hola¡. FHG, 10% de descuento en la matricula por pertenecer al sena.\n",
            "10%\n",
            "F. Ingrese su salario $: 7654\n",
            "hola¡.FHG,su salario 7654\n",
            "-------------------------------------------------------------------\n",
            "TOTAL DESCUENTO:\n",
            "37 % descuento para la universidad de la vida FHG\n",
            "gracias feliz dia\n"
          ]
        }
      ],
      "source": [
        "# Descuentos para la U de la vida \n",
        "print ('Universidad de la vida')\n",
        "print(\"¿Nombre completo? \", end=\"\")\n",
        "nombre = input()\n",
        "nombre_ = nombre . upper()\n",
        "print(f\"completa el formulario para saber cuanto descuento tine para la universidad de la vida, {nombre_}\")\n",
        "print(f\"{nombre_} Numero de identificacion?\", end=\"\")\n",
        "numero=int(input())\n",
        "print(\"Cual es su edad ?\")\n",
        "edad = int(input())\n",
        "a=0\n",
        "b=0\n",
        "c=0\n",
        "d=0\n",
        "e=0\n",
        "f=0\n",
        "g=0\n",
        "h=0\n",
        "i=0\n",
        "j=0\n",
        "k=0\n",
        "l=0\n",
        "m=0\n",
        "n=0\n",
        "descuento=0\n",
        "\n",
        "if 18<=edad<=25:\n",
        "    print(f'hola¡. {nombre_}, 10% de descuento en la matricula por tener {edad} años de edad.')\n",
        "    print('10%') \n",
        "    a=10\n",
        "elif 26<=edad<=35:\n",
        "    print(f'hola¡. {nombre_}, 5% de descuento en la matricula por tener {edad} años de edad.')\n",
        "    print('5%')\n",
        "    b=5\n",
        "else:\n",
        "    print(f'hola¡. {nombre_}, no tiene descuentos   {edad} ')\n",
        "    print('0%')\n",
        "print(\"estado civil ? soltero, casado, viudo\")\n",
        "estado_civil=(input())\n",
        "if estado_civil=='casado':\n",
        "    print(f'. {nombre_}, 25% de descuento en la matricula por su estado civil de {estado_civil}.' )\n",
        "    print('25%')\n",
        "    c=25\n",
        "elif estado_civil=='soltero':\n",
        "    print(f'Sr(a). {nombre_},  15% de descuento en la matricula por su estado civil de {estado_civil}.')\n",
        "    print('15%')\n",
        "    d=15\n",
        "elif estado_civil=='viudo':\n",
        "    print(f'Sr(a). {nombre_}, 20% de descuento en la matricula por su estado civil de {estado_civil}.')\n",
        "    print('20%')\n",
        "    e=20\n",
        "else:\n",
        "    print(f'Sr(a). {nombre_}, no tiene descuentos  estado civil de {estado_civil}.')\n",
        "    print('0%')\n",
        "    l=0\n",
        "print(' NÚMERO DE HIJOS:')\n",
        "hijos=int(input())\n",
        "if hijos==3:\n",
        "    print(f'Sr(a). {nombre_},  10% de descuento en la matricula por tener {hijos} hijos.' )\n",
        "    print('10%')\n",
        "    f=10\n",
        "elif hijos==2:\n",
        "    print(f'Sr(a). {nombre_},  7% de descuento en la matricula por tener {hijos} hijos.')\n",
        "    print('7%')\n",
        "    g=7\n",
        "elif hijos==1:\n",
        "    print(f'Sr(a). {nombre_},  5% de descuento en la matricula por tener {hijos} hijo.')\n",
        "    print('5%')\n",
        "    h=5\n",
        "else:\n",
        "    print(f'Sr(a). {nombre_}, no tiene descuentos  por tener {hijos} hijos ')\n",
        "    print('0%')\n",
        "    m=0\n",
        "print('Nivel educativo? sena, bachiller,profecional')\n",
        "educacion =(input())\n",
        "if educacion=='sena':\n",
        "    print(f'hola¡. {nombre_}, 10% de descuento en la matricula por pertenecer al {educacion}.' )\n",
        "    print('10%')\n",
        "    i=10\n",
        "elif educacion=='bachiller':\n",
        "    print(f'hola¡. {nombre_},  15% de descuento en la matricula por ser {educacion}.')\n",
        "    print('15%')\n",
        "    j=15\n",
        "else:\n",
        "    print(f'hola¡. {nombre_}, sin descuentos en la matricula por ser {educacion}')\n",
        "    print('0%')\n",
        "    n=0\n",
        "salario=int(input('F. Ingrese su salario $: '))\n",
        "print(f'hola¡.{nombre_},su salario {salario}')\n",
        "print('-------------------------------------------------------------------')\n",
        "print('TOTAL DESCUENTO:') \n",
        "descuento=a+b+c+d+f+g+h+i+j+k+l+m+n\n",
        "print(f'{descuento} % descuento para la universidad de la vida {nombre_}' )\n",
        "print('gracias feliz dia')"
      ]
    }
  ],
  "metadata": {
    "colab": {
      "authorship_tag": "ABX9TyOsaqBe0ucqpiZmpw07SOXX",
      "include_colab_link": true,
      "provenance": []
    },
    "kernelspec": {
      "display_name": "Python 3.11.0 32-bit",
      "language": "python",
      "name": "python3"
    },
    "language_info": {
      "name": "python",
      "version": "3.11.0"
    },
    "vscode": {
      "interpreter": {
        "hash": "14d6017ec796736c5a19690b53045c6ff51ded255efeacf90be993f4f7d72314"
      }
    }
  },
  "nbformat": 4,
  "nbformat_minor": 0
}
